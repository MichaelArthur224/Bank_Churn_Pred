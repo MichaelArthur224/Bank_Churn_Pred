{
  "nbformat": 4,
  "nbformat_minor": 0,
  "metadata": {
    "colab": {
      "provenance": [],
      "collapsed_sections": [
        "0NRWv0Vq6LoP",
        "FobwYwmw6m2W",
        "TuCFlu8K-h6e",
        "YYb03R67HWbC",
        "5m4RjGBzLM1j",
        "kmzMBNv0NFvi",
        "6V6pkb9wsIBt",
        "OFGOrJPO10pp",
        "LluCWqQoGWui"
      ],
      "mount_file_id": "1bLOzG9XzoHnDMFexSiE4dhAkQWZzEwle",
      "authorship_tag": "ABX9TyNB9d2l9Lic4POkBcV3+WUQ",
      "include_colab_link": true
    },
    "kernelspec": {
      "name": "python3",
      "display_name": "Python 3"
    },
    "language_info": {
      "name": "python"
    }
  },
  "cells": [
    {
      "cell_type": "markdown",
      "metadata": {
        "id": "view-in-github",
        "colab_type": "text"
      },
      "source": [
        "<a href=\"https://colab.research.google.com/github/MichaelArthur224/Bank_Churn_Pred/blob/main/Bank_Churn_Pred.ipynb\" target=\"_parent\"><img src=\"https://colab.research.google.com/assets/colab-badge.svg\" alt=\"Open In Colab\"/></a>"
      ]
    },
    {
      "cell_type": "markdown",
      "source": [
        "##Welcome To Analysis Of Bank Churn Prediction Dataset"
      ],
      "metadata": {
        "id": "8NUuZ9w-EYyO"
      }
    },
    {
      "cell_type": "markdown",
      "source": [
        "Feature Description:\n",
        "1. Customer ID - Unique ID given to identify a particular customer.\n",
        "2. Credit Score - It is the score which determines the creditworthiness of a customer.\n",
        "3. Country - The country where customer lives.\n",
        "4. Gender - The Sex of customer.\n",
        "5. Age - The age of customer.\n",
        "6. Tenure - Number of years the customer has Bank Account in that Bank.\n",
        "7. Balance - Amount of money present in customer's bank.\n",
        "8. Products Number - Number of Products from that Bank.\n",
        "9. Credit Card - Does the customer own a credit card of that Bank.\n",
        "10. Active Member - Whether the customer is an active member of that Bank.\n",
        "11. Estimated Salary - Total Income of the Customer.\n",
        "12. Churn - Churn (Loss of existing customers) of the Bank."
      ],
      "metadata": {
        "id": "r2h3FRDEbjf5"
      }
    },
    {
      "cell_type": "markdown",
      "source": [
        "#Table Of Contents\n",
        "1. Overview\n",
        "2. Import Data and Libraries\n",
        "3. Data Cleaning\n",
        "4. Visualization\n",
        "5. Pre Processing\n",
        "6. Decision Tree\n",
        "7. KNN Model\n",
        "8. Boosting\n",
        "9. Nerual Network\n",
        "10. Dropout\n",
        "11. Early Stoping\n",
        "12. Report"
      ],
      "metadata": {
        "id": "_shUv1AAEnFq"
      }
    },
    {
      "cell_type": "markdown",
      "source": [
        "We are have a data set containing 10000 bank customers and if they have churned or not. We are also given information regarding salary, credit score, and more. In this project I build multiple models to predict wether a customer will churn. I use EDA to further understand the data set."
      ],
      "metadata": {
        "id": "lUFUhn1XcTET"
      }
    },
    {
      "cell_type": "markdown",
      "source": [
        "![Bank-PO-.png](data:image/png;base64,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)"
      ],
      "metadata": {
        "id": "p5dFJGS7ECd_"
      }
    },
    {
      "cell_type": "markdown",
      "source": [
        "##Import Data and Libraries"
      ],
      "metadata": {
        "id": "LSzo4hAdGJo5"
      }
    },
    {
      "cell_type": "code",
      "source": [
        "import pandas as pd\n",
        "import numpy as np\n",
        "import matplotlib.pyplot as plt\n",
        "import seaborn as sns"
      ],
      "metadata": {
        "id": "3YumI7Jv5dUX"
      },
      "execution_count": null,
      "outputs": []
    },
    {
      "cell_type": "code",
      "source": [
        "df = pd.read_csv('/content/drive/MyDrive/Colab Notebooks/Projects/Bank Churn/Bank Customer Churn Prediction.csv')\n",
        "df1 = df.copy()\n",
        "df.head()"
      ],
      "metadata": {
        "colab": {
          "base_uri": "https://localhost:8080/",
          "height": 206
        },
        "id": "xWPKdPHE5d3y",
        "outputId": "20d88e1d-5bf2-4195-f960-d3e0414bf129"
      },
      "execution_count": null,
      "outputs": [
        {
          "output_type": "execute_result",
          "data": {
            "text/plain": [
              "   customer_id  credit_score country  gender  age  tenure    balance  \\\n",
              "0     15634602           619  France  Female   42       2       0.00   \n",
              "1     15647311           608   Spain  Female   41       1   83807.86   \n",
              "2     15619304           502  France  Female   42       8  159660.80   \n",
              "3     15701354           699  France  Female   39       1       0.00   \n",
              "4     15737888           850   Spain  Female   43       2  125510.82   \n",
              "\n",
              "   products_number  credit_card  active_member  estimated_salary  churn  \n",
              "0                1            1              1         101348.88      1  \n",
              "1                1            0              1         112542.58      0  \n",
              "2                3            1              0         113931.57      1  \n",
              "3                2            0              0          93826.63      0  \n",
              "4                1            1              1          79084.10      0  "
            ],
            "text/html": [
              "\n",
              "  <div id=\"df-48cbb3c8-b888-487d-97e7-81c0da88ecdb\">\n",
              "    <div class=\"colab-df-container\">\n",
              "      <div>\n",
              "<style scoped>\n",
              "    .dataframe tbody tr th:only-of-type {\n",
              "        vertical-align: middle;\n",
              "    }\n",
              "\n",
              "    .dataframe tbody tr th {\n",
              "        vertical-align: top;\n",
              "    }\n",
              "\n",
              "    .dataframe thead th {\n",
              "        text-align: right;\n",
              "    }\n",
              "</style>\n",
              "<table border=\"1\" class=\"dataframe\">\n",
              "  <thead>\n",
              "    <tr style=\"text-align: right;\">\n",
              "      <th></th>\n",
              "      <th>customer_id</th>\n",
              "      <th>credit_score</th>\n",
              "      <th>country</th>\n",
              "      <th>gender</th>\n",
              "      <th>age</th>\n",
              "      <th>tenure</th>\n",
              "      <th>balance</th>\n",
              "      <th>products_number</th>\n",
              "      <th>credit_card</th>\n",
              "      <th>active_member</th>\n",
              "      <th>estimated_salary</th>\n",
              "      <th>churn</th>\n",
              "    </tr>\n",
              "  </thead>\n",
              "  <tbody>\n",
              "    <tr>\n",
              "      <th>0</th>\n",
              "      <td>15634602</td>\n",
              "      <td>619</td>\n",
              "      <td>France</td>\n",
              "      <td>Female</td>\n",
              "      <td>42</td>\n",
              "      <td>2</td>\n",
              "      <td>0.00</td>\n",
              "      <td>1</td>\n",
              "      <td>1</td>\n",
              "      <td>1</td>\n",
              "      <td>101348.88</td>\n",
              "      <td>1</td>\n",
              "    </tr>\n",
              "    <tr>\n",
              "      <th>1</th>\n",
              "      <td>15647311</td>\n",
              "      <td>608</td>\n",
              "      <td>Spain</td>\n",
              "      <td>Female</td>\n",
              "      <td>41</td>\n",
              "      <td>1</td>\n",
              "      <td>83807.86</td>\n",
              "      <td>1</td>\n",
              "      <td>0</td>\n",
              "      <td>1</td>\n",
              "      <td>112542.58</td>\n",
              "      <td>0</td>\n",
              "    </tr>\n",
              "    <tr>\n",
              "      <th>2</th>\n",
              "      <td>15619304</td>\n",
              "      <td>502</td>\n",
              "      <td>France</td>\n",
              "      <td>Female</td>\n",
              "      <td>42</td>\n",
              "      <td>8</td>\n",
              "      <td>159660.80</td>\n",
              "      <td>3</td>\n",
              "      <td>1</td>\n",
              "      <td>0</td>\n",
              "      <td>113931.57</td>\n",
              "      <td>1</td>\n",
              "    </tr>\n",
              "    <tr>\n",
              "      <th>3</th>\n",
              "      <td>15701354</td>\n",
              "      <td>699</td>\n",
              "      <td>France</td>\n",
              "      <td>Female</td>\n",
              "      <td>39</td>\n",
              "      <td>1</td>\n",
              "      <td>0.00</td>\n",
              "      <td>2</td>\n",
              "      <td>0</td>\n",
              "      <td>0</td>\n",
              "      <td>93826.63</td>\n",
              "      <td>0</td>\n",
              "    </tr>\n",
              "    <tr>\n",
              "      <th>4</th>\n",
              "      <td>15737888</td>\n",
              "      <td>850</td>\n",
              "      <td>Spain</td>\n",
              "      <td>Female</td>\n",
              "      <td>43</td>\n",
              "      <td>2</td>\n",
              "      <td>125510.82</td>\n",
              "      <td>1</td>\n",
              "      <td>1</td>\n",
              "      <td>1</td>\n",
              "      <td>79084.10</td>\n",
              "      <td>0</td>\n",
              "    </tr>\n",
              "  </tbody>\n",
              "</table>\n",
              "</div>\n",
              "      <button class=\"colab-df-convert\" onclick=\"convertToInteractive('df-48cbb3c8-b888-487d-97e7-81c0da88ecdb')\"\n",
              "              title=\"Convert this dataframe to an interactive table.\"\n",
              "              style=\"display:none;\">\n",
              "        \n",
              "  <svg xmlns=\"http://www.w3.org/2000/svg\" height=\"24px\"viewBox=\"0 0 24 24\"\n",
              "       width=\"24px\">\n",
              "    <path d=\"M0 0h24v24H0V0z\" fill=\"none\"/>\n",
              "    <path d=\"M18.56 5.44l.94 2.06.94-2.06 2.06-.94-2.06-.94-.94-2.06-.94 2.06-2.06.94zm-11 1L8.5 8.5l.94-2.06 2.06-.94-2.06-.94L8.5 2.5l-.94 2.06-2.06.94zm10 10l.94 2.06.94-2.06 2.06-.94-2.06-.94-.94-2.06-.94 2.06-2.06.94z\"/><path d=\"M17.41 7.96l-1.37-1.37c-.4-.4-.92-.59-1.43-.59-.52 0-1.04.2-1.43.59L10.3 9.45l-7.72 7.72c-.78.78-.78 2.05 0 2.83L4 21.41c.39.39.9.59 1.41.59.51 0 1.02-.2 1.41-.59l7.78-7.78 2.81-2.81c.8-.78.8-2.07 0-2.86zM5.41 20L4 18.59l7.72-7.72 1.47 1.35L5.41 20z\"/>\n",
              "  </svg>\n",
              "      </button>\n",
              "      \n",
              "  <style>\n",
              "    .colab-df-container {\n",
              "      display:flex;\n",
              "      flex-wrap:wrap;\n",
              "      gap: 12px;\n",
              "    }\n",
              "\n",
              "    .colab-df-convert {\n",
              "      background-color: #E8F0FE;\n",
              "      border: none;\n",
              "      border-radius: 50%;\n",
              "      cursor: pointer;\n",
              "      display: none;\n",
              "      fill: #1967D2;\n",
              "      height: 32px;\n",
              "      padding: 0 0 0 0;\n",
              "      width: 32px;\n",
              "    }\n",
              "\n",
              "    .colab-df-convert:hover {\n",
              "      background-color: #E2EBFA;\n",
              "      box-shadow: 0px 1px 2px rgba(60, 64, 67, 0.3), 0px 1px 3px 1px rgba(60, 64, 67, 0.15);\n",
              "      fill: #174EA6;\n",
              "    }\n",
              "\n",
              "    [theme=dark] .colab-df-convert {\n",
              "      background-color: #3B4455;\n",
              "      fill: #D2E3FC;\n",
              "    }\n",
              "\n",
              "    [theme=dark] .colab-df-convert:hover {\n",
              "      background-color: #434B5C;\n",
              "      box-shadow: 0px 1px 3px 1px rgba(0, 0, 0, 0.15);\n",
              "      filter: drop-shadow(0px 1px 2px rgba(0, 0, 0, 0.3));\n",
              "      fill: #FFFFFF;\n",
              "    }\n",
              "  </style>\n",
              "\n",
              "      <script>\n",
              "        const buttonEl =\n",
              "          document.querySelector('#df-48cbb3c8-b888-487d-97e7-81c0da88ecdb button.colab-df-convert');\n",
              "        buttonEl.style.display =\n",
              "          google.colab.kernel.accessAllowed ? 'block' : 'none';\n",
              "\n",
              "        async function convertToInteractive(key) {\n",
              "          const element = document.querySelector('#df-48cbb3c8-b888-487d-97e7-81c0da88ecdb');\n",
              "          const dataTable =\n",
              "            await google.colab.kernel.invokeFunction('convertToInteractive',\n",
              "                                                     [key], {});\n",
              "          if (!dataTable) return;\n",
              "\n",
              "          const docLinkHtml = 'Like what you see? Visit the ' +\n",
              "            '<a target=\"_blank\" href=https://colab.research.google.com/notebooks/data_table.ipynb>data table notebook</a>'\n",
              "            + ' to learn more about interactive tables.';\n",
              "          element.innerHTML = '';\n",
              "          dataTable['output_type'] = 'display_data';\n",
              "          await google.colab.output.renderOutput(dataTable, element);\n",
              "          const docLink = document.createElement('div');\n",
              "          docLink.innerHTML = docLinkHtml;\n",
              "          element.appendChild(docLink);\n",
              "        }\n",
              "      </script>\n",
              "    </div>\n",
              "  </div>\n",
              "  "
            ]
          },
          "metadata": {},
          "execution_count": 11
        }
      ]
    },
    {
      "cell_type": "code",
      "source": [
        "df.shape\n",
        "#10000 columns 12 rows"
      ],
      "metadata": {
        "id": "azrVJcSB5_Nu",
        "colab": {
          "base_uri": "https://localhost:8080/"
        },
        "outputId": "45718d98-adbc-4c04-d19d-ef50e73e4edb"
      },
      "execution_count": null,
      "outputs": [
        {
          "output_type": "execute_result",
          "data": {
            "text/plain": [
              "(10000, 12)"
            ]
          },
          "metadata": {},
          "execution_count": 12
        }
      ]
    },
    {
      "cell_type": "code",
      "source": [
        "df.dtypes"
      ],
      "metadata": {
        "id": "VVa7sfbJ6HMJ",
        "colab": {
          "base_uri": "https://localhost:8080/"
        },
        "outputId": "362d36e1-2c36-4f42-e42a-bcadb2db8a31"
      },
      "execution_count": null,
      "outputs": [
        {
          "output_type": "execute_result",
          "data": {
            "text/plain": [
              "customer_id           int64\n",
              "credit_score          int64\n",
              "country              object\n",
              "gender               object\n",
              "age                   int64\n",
              "tenure                int64\n",
              "balance             float64\n",
              "products_number       int64\n",
              "credit_card           int64\n",
              "active_member         int64\n",
              "estimated_salary    float64\n",
              "churn                 int64\n",
              "dtype: object"
            ]
          },
          "metadata": {},
          "execution_count": 13
        }
      ]
    },
    {
      "cell_type": "markdown",
      "source": [
        "##Cleaning"
      ],
      "metadata": {
        "id": "0NRWv0Vq6LoP"
      }
    },
    {
      "cell_type": "code",
      "source": [
        "df.duplicated().sum()"
      ],
      "metadata": {
        "id": "eFGbGV9h6I1w",
        "colab": {
          "base_uri": "https://localhost:8080/"
        },
        "outputId": "2afd219d-98c3-4e4a-b4e9-14cf03fe1201"
      },
      "execution_count": null,
      "outputs": [
        {
          "output_type": "execute_result",
          "data": {
            "text/plain": [
              "0"
            ]
          },
          "metadata": {},
          "execution_count": 14
        }
      ]
    },
    {
      "cell_type": "code",
      "source": [
        "df.isna().sum()"
      ],
      "metadata": {
        "id": "tRNsI0ph6NeG",
        "colab": {
          "base_uri": "https://localhost:8080/"
        },
        "outputId": "01333d0c-7a32-4480-f926-9a3e69a267c4"
      },
      "execution_count": null,
      "outputs": [
        {
          "output_type": "execute_result",
          "data": {
            "text/plain": [
              "customer_id         0\n",
              "credit_score        0\n",
              "country             0\n",
              "gender              0\n",
              "age                 0\n",
              "tenure              0\n",
              "balance             0\n",
              "products_number     0\n",
              "credit_card         0\n",
              "active_member       0\n",
              "estimated_salary    0\n",
              "churn               0\n",
              "dtype: int64"
            ]
          },
          "metadata": {},
          "execution_count": 15
        }
      ]
    },
    {
      "cell_type": "code",
      "source": [
        "df.nunique()\n",
        "#Data is already cleaned"
      ],
      "metadata": {
        "id": "DZjYi4ds6RCf",
        "colab": {
          "base_uri": "https://localhost:8080/"
        },
        "outputId": "68ffd7ec-6cc5-4862-8fa4-a642afc55e12"
      },
      "execution_count": null,
      "outputs": [
        {
          "output_type": "execute_result",
          "data": {
            "text/plain": [
              "customer_id         10000\n",
              "credit_score          460\n",
              "country                 3\n",
              "gender                  2\n",
              "age                    70\n",
              "tenure                 11\n",
              "balance              6382\n",
              "products_number         4\n",
              "credit_card             2\n",
              "active_member           2\n",
              "estimated_salary     9999\n",
              "churn                   2\n",
              "dtype: int64"
            ]
          },
          "metadata": {},
          "execution_count": 16
        }
      ]
    },
    {
      "cell_type": "markdown",
      "source": [
        "Woooo! It is cleaned!"
      ],
      "metadata": {
        "id": "R4XXRpyc61XE"
      }
    },
    {
      "cell_type": "markdown",
      "source": [
        "##Visualization"
      ],
      "metadata": {
        "id": "mAjEvUaPfUyL"
      }
    },
    {
      "cell_type": "code",
      "source": [
        "sns.violinplot(x=\"credit_card\", y=\"credit_score\", hue=\"credit_card\", palette=\"ch:r=-.2,d=.3_r\", linewidth=0, data=df)"
      ],
      "metadata": {
        "colab": {
          "base_uri": "https://localhost:8080/",
          "height": 297
        },
        "id": "AY6m_B1-fYua",
        "outputId": "e68d13f5-c1a6-4ac2-ba3a-68010fa66546"
      },
      "execution_count": null,
      "outputs": [
        {
          "output_type": "execute_result",
          "data": {
            "text/plain": [
              "<matplotlib.axes._subplots.AxesSubplot at 0x7f43ddea6190>"
            ]
          },
          "metadata": {},
          "execution_count": 17
        },
        {
          "output_type": "display_data",
          "data": {
            "text/plain": [
              "<Figure size 432x288 with 1 Axes>"
            ],
            "image/png": "[encoded data removed]"
          },
          "metadata": {
            "needs_background": "light"
          }
        }
      ]
    },
    {
      "cell_type": "markdown",
      "source": [
        "##Preprocess"
      ],
      "metadata": {
        "id": "FobwYwmw6m2W"
      }
    },
    {
      "cell_type": "code",
      "source": [
        "from sklearn.preprocessing import StandardScaler, OneHotEncoder\n",
        "from sklearn.impute import SimpleImputer\n",
        "from sklearn.compose import make_column_transformer, make_column_selector\n",
        "from sklearn.pipeline import make_pipeline\n",
        "from sklearn.model_selection import train_test_split"
      ],
      "metadata": {
        "id": "9oeGAOow6pKY"
      },
      "execution_count": null,
      "outputs": []
    },
    {
      "cell_type": "code",
      "source": [
        "#The target is churn since that is our prediction\n",
        "X = df.drop('churn', axis=1)\n",
        "y = df['churn']\n",
        "X_train, X_test, y_train, y_test = train_test_split(X, y, random_state=42)"
      ],
      "metadata": {
        "id": "SI6_I7fa6tAD"
      },
      "execution_count": null,
      "outputs": []
    },
    {
      "cell_type": "code",
      "source": [
        "#Establish selectors\n",
        "cat_selector = make_column_selector(dtype_include='object')\n",
        "num_selector = make_column_selector(dtype_include='number')"
      ],
      "metadata": {
        "id": "6IaQedoa7c_J"
      },
      "execution_count": null,
      "outputs": []
    },
    {
      "cell_type": "code",
      "source": [
        "#Imputer, scaler, OneHotEncoder\n",
        "freq_imputer = SimpleImputer(strategy='most_frequent')\n",
        "mean_imputer = SimpleImputer(strategy='mean')\n",
        "scaler = StandardScaler()\n",
        "ohe = OneHotEncoder(handle_unknown='ignore', sparse=False)"
      ],
      "metadata": {
        "id": "qwSQ90qn7mew"
      },
      "execution_count": null,
      "outputs": []
    },
    {
      "cell_type": "code",
      "source": [
        "#Numeric Pipeline\n",
        "numeric_pipe = make_pipeline(mean_imputer, scaler)\n",
        "numeric_pipe"
      ],
      "metadata": {
        "id": "9SyVtRzi7xWR",
        "colab": {
          "base_uri": "https://localhost:8080/"
        },
        "outputId": "490f6e14-06e6-48f0-c362-7014fc697fc4"
      },
      "execution_count": null,
      "outputs": [
        {
          "output_type": "execute_result",
          "data": {
            "text/plain": [
              "Pipeline(steps=[('simpleimputer', SimpleImputer()),\n",
              "                ('standardscaler', StandardScaler())])"
            ]
          },
          "metadata": {},
          "execution_count": 22
        }
      ]
    },
    {
      "cell_type": "code",
      "source": [
        "#Categorial Pipeline\n",
        "categorical_pipe = make_pipeline(freq_imputer, ohe)\n",
        "categorical_pipe"
      ],
      "metadata": {
        "id": "3YVMCqYv8GIS",
        "colab": {
          "base_uri": "https://localhost:8080/"
        },
        "outputId": "5e6a9dee-0ce3-4280-c448-135a6cb0dd9f"
      },
      "execution_count": null,
      "outputs": [
        {
          "output_type": "execute_result",
          "data": {
            "text/plain": [
              "Pipeline(steps=[('simpleimputer', SimpleImputer(strategy='most_frequent')),\n",
              "                ('onehotencoder',\n",
              "                 OneHotEncoder(handle_unknown='ignore', sparse=False))])"
            ]
          },
          "metadata": {},
          "execution_count": 23
        }
      ]
    },
    {
      "cell_type": "code",
      "source": [
        "#Create tuples\n",
        "number_tuple = (numeric_pipe, num_selector)\n",
        "category_tuple = (categorical_pipe, cat_selector)\n",
        "#Create ColumnTransformer\n",
        "preprocessor = make_column_transformer(number_tuple, category_tuple)\n",
        "preprocessor"
      ],
      "metadata": {
        "id": "7raSzWvX9heZ",
        "colab": {
          "base_uri": "https://localhost:8080/"
        },
        "outputId": "ff3790c0-1087-41c6-ee38-87c0bba10396"
      },
      "execution_count": null,
      "outputs": [
        {
          "output_type": "execute_result",
          "data": {
            "text/plain": [
              "ColumnTransformer(transformers=[('pipeline-1',\n",
              "                                 Pipeline(steps=[('simpleimputer',\n",
              "                                                  SimpleImputer()),\n",
              "                                                 ('standardscaler',\n",
              "                                                  StandardScaler())]),\n",
              "                                 <sklearn.compose._column_transformer.make_column_selector object at 0x7f43dcaa5650>),\n",
              "                                ('pipeline-2',\n",
              "                                 Pipeline(steps=[('simpleimputer',\n",
              "                                                  SimpleImputer(strategy='most_frequent')),\n",
              "                                                 ('onehotencoder',\n",
              "                                                  OneHotEncoder(handle_unknown='ignore',\n",
              "                                                                sparse=False))]),\n",
              "                                 <sklearn.compose._column_transformer.make_column_selector object at 0x7f43dcaa55d0>)])"
            ]
          },
          "metadata": {},
          "execution_count": 24
        }
      ]
    },
    {
      "cell_type": "code",
      "source": [
        "#Fitting\n",
        "preprocessor.fit(X_train)\n",
        "#Transform\n",
        "X_train_processed = preprocessor.transform(X_train)\n",
        "X_test_processed = preprocessor.transform(X_test)"
      ],
      "metadata": {
        "id": "T11AzVRn9mT0"
      },
      "execution_count": null,
      "outputs": []
    },
    {
      "cell_type": "code",
      "source": [
        "print(np.isnan(X_train_processed).sum().sum(), 'missing values in training data')\n",
        "print(np.isnan(X_test_processed).sum().sum(), 'missing values in testing data')\n",
        "print('\\n')\n",
        "print('All data in X_train_processed are', X_train_processed.dtype)\n",
        "print('All data in X_test_processed are', X_test_processed.dtype)\n",
        "print('\\n')\n",
        "print('shape of data is', X_train_processed.shape)\n",
        "print('\\n')"
      ],
      "metadata": {
        "id": "xxlf9-De92R9",
        "colab": {
          "base_uri": "https://localhost:8080/"
        },
        "outputId": "ff1b4332-602a-47f6-d1eb-c33d072a7285"
      },
      "execution_count": null,
      "outputs": [
        {
          "output_type": "stream",
          "name": "stdout",
          "text": [
            "0 missing values in training data\n",
            "0 missing values in testing data\n",
            "\n",
            "\n",
            "All data in X_train_processed are float64\n",
            "All data in X_test_processed are float64\n",
            "\n",
            "\n",
            "shape of data is (7500, 14)\n",
            "\n",
            "\n"
          ]
        }
      ]
    },
    {
      "cell_type": "markdown",
      "source": [
        "##Decision Tree"
      ],
      "metadata": {
        "id": "TuCFlu8K-h6e"
      }
    },
    {
      "cell_type": "code",
      "source": [
        "from sklearn.tree import DecisionTreeClassifier\n",
        "from sklearn.metrics import accuracy_score, classification_report"
      ],
      "metadata": {
        "id": "C1dYVn3V-j7y"
      },
      "execution_count": null,
      "outputs": []
    },
    {
      "cell_type": "code",
      "source": [
        "#Establish Decision Tree\n",
        "dec_tree = DecisionTreeClassifier(random_state = 42, max_depth=2)"
      ],
      "metadata": {
        "id": "Wsx0uF21AWOT"
      },
      "execution_count": null,
      "outputs": []
    },
    {
      "cell_type": "code",
      "source": [
        "dec_tree.get_params()"
      ],
      "metadata": {
        "id": "xczPak87AgRU",
        "colab": {
          "base_uri": "https://localhost:8080/"
        },
        "outputId": "85872496-59e3-49bb-e37b-692be41787a2"
      },
      "execution_count": null,
      "outputs": [
        {
          "output_type": "execute_result",
          "data": {
            "text/plain": [
              "{'ccp_alpha': 0.0,\n",
              " 'class_weight': None,\n",
              " 'criterion': 'gini',\n",
              " 'max_depth': 2,\n",
              " 'max_features': None,\n",
              " 'max_leaf_nodes': None,\n",
              " 'min_impurity_decrease': 0.0,\n",
              " 'min_samples_leaf': 1,\n",
              " 'min_samples_split': 2,\n",
              " 'min_weight_fraction_leaf': 0.0,\n",
              " 'random_state': 42,\n",
              " 'splitter': 'best'}"
            ]
          },
          "metadata": {},
          "execution_count": 29
        }
      ]
    },
    {
      "cell_type": "code",
      "source": [
        "#Fitting to decision tree\n",
        "dec_tree.fit(X_train_processed, y_train)"
      ],
      "metadata": {
        "id": "FUFVI8YFAl03",
        "colab": {
          "base_uri": "https://localhost:8080/"
        },
        "outputId": "84299f84-1191-4977-978a-4ce4956d14c9"
      },
      "execution_count": null,
      "outputs": [
        {
          "output_type": "execute_result",
          "data": {
            "text/plain": [
              "DecisionTreeClassifier(max_depth=2, random_state=42)"
            ]
          },
          "metadata": {},
          "execution_count": 30
        }
      ]
    },
    {
      "cell_type": "code",
      "source": [
        "#Predict\n",
        "predictions = dec_tree.predict(X_test_processed)"
      ],
      "metadata": {
        "id": "7H8jHUXLApYI"
      },
      "execution_count": null,
      "outputs": []
    },
    {
      "cell_type": "code",
      "source": [
        "train_score = dec_tree.score(X_train_processed, y_train)\n",
        "test_score = dec_tree.score(X_test_processed, y_test)\n",
        "print(train_score)\n",
        "print(test_score)"
      ],
      "metadata": {
        "id": "b3S-1xFMA5I5",
        "colab": {
          "base_uri": "https://localhost:8080/"
        },
        "outputId": "359c2247-dd3a-45d3-a781-a72d282be2f3"
      },
      "execution_count": null,
      "outputs": [
        {
          "output_type": "stream",
          "name": "stdout",
          "text": [
            "0.8390666666666666\n",
            "0.8464\n"
          ]
        }
      ]
    },
    {
      "cell_type": "code",
      "source": [
        "from sklearn.metrics import confusion_matrix"
      ],
      "metadata": {
        "id": "o5tGfqVXCZhm"
      },
      "execution_count": null,
      "outputs": []
    },
    {
      "cell_type": "code",
      "source": [
        "cm = confusion_matrix(y_test.values, predictions)"
      ],
      "metadata": {
        "id": "GJtwRiIQCZ_u"
      },
      "execution_count": null,
      "outputs": []
    },
    {
      "cell_type": "code",
      "source": [
        "cm_df = pd.DataFrame(cm)"
      ],
      "metadata": {
        "id": "yCIdGuDyCnaz"
      },
      "execution_count": null,
      "outputs": []
    },
    {
      "cell_type": "code",
      "source": [
        "from sklearn.metrics import ConfusionMatrixDisplay"
      ],
      "metadata": {
        "id": "cZFbEVo5Cpn3"
      },
      "execution_count": null,
      "outputs": []
    },
    {
      "cell_type": "code",
      "source": [
        "ConfusionMatrixDisplay.from_predictions(y_test, predictions);"
      ],
      "metadata": {
        "id": "gIYj5VatCstU",
        "colab": {
          "base_uri": "https://localhost:8080/"
        },
        "outputId": "9a9bacc6-e179-48fc-f725-c7484dcf7fdb"
      },
      "execution_count": null,
      "outputs": [
        {
          "output_type": "display_data",
          "data": {
            "text/plain": [
              "<Figure size 432x288 with 2 Axes>"
            ],
            "image/png": "[encoded data removed]"
          },
          "metadata": {
            "needs_background": "light"
          }
        }
      ]
    },
    {
      "cell_type": "code",
      "source": [
        "# Plot the confusion matrix\n",
        "labels=['Stayed','Churn']\n",
        "ConfusionMatrixDisplay.from_predictions(y_test, predictions, display_labels=labels, cmap='Reds');"
      ],
      "metadata": {
        "id": "0GhmbNzOC969",
        "colab": {
          "base_uri": "https://localhost:8080/"
        },
        "outputId": "100ed21c-879f-4aeb-ae4c-c8ede4ce2ffb"
      },
      "execution_count": null,
      "outputs": [
        {
          "output_type": "display_data",
          "data": {
            "text/plain": [
              "<Figure size 432x288 with 2 Axes>"
            ],
            "image/png": "[encoded data removed]"
          },
          "metadata": {
            "needs_background": "light"
          }
        }
      ]
    },
    {
      "cell_type": "markdown",
      "source": [
        "1914 Truly Stayed\n",
        "202 Truly Left"
      ],
      "metadata": {
        "id": "B3QVj8lOKTFU"
      }
    },
    {
      "cell_type": "markdown",
      "source": [
        "##KNN Model"
      ],
      "metadata": {
        "id": "YYb03R67HWbC"
      }
    },
    {
      "cell_type": "code",
      "source": [
        "from sklearn.neighbors import KNeighborsClassifier"
      ],
      "metadata": {
        "id": "ueEbWLoMHY-i"
      },
      "execution_count": null,
      "outputs": []
    },
    {
      "cell_type": "code",
      "source": [
        "knn = KNeighborsClassifier(n_neighbors=2)"
      ],
      "metadata": {
        "id": "V4mjaZ4mHZy9"
      },
      "execution_count": null,
      "outputs": []
    },
    {
      "cell_type": "code",
      "source": [
        "knn_pipe = make_pipeline(scaler, knn)\n",
        "knn_pipe.fit(X_train_processed, y_train)"
      ],
      "metadata": {
        "id": "s7XlYA8gHcoS",
        "colab": {
          "base_uri": "https://localhost:8080/"
        },
        "outputId": "77ad76ed-fcf9-4f6a-8959-1a682beb6f08"
      },
      "execution_count": null,
      "outputs": [
        {
          "output_type": "execute_result",
          "data": {
            "text/plain": [
              "Pipeline(steps=[('standardscaler', StandardScaler()),\n",
              "                ('kneighborsclassifier', KNeighborsClassifier(n_neighbors=2))])"
            ]
          },
          "metadata": {},
          "execution_count": 41
        }
      ]
    },
    {
      "cell_type": "code",
      "source": [
        "knn_predictions = knn_pipe.predict(X_test_processed)\n",
        "knn_predictions"
      ],
      "metadata": {
        "id": "LEgYi0_cHwAj",
        "colab": {
          "base_uri": "https://localhost:8080/"
        },
        "outputId": "fae090a2-48ba-40a4-b6f8-e6df331b530b"
      },
      "execution_count": null,
      "outputs": [
        {
          "output_type": "execute_result",
          "data": {
            "text/plain": [
              "array([0, 0, 0, ..., 0, 0, 0])"
            ]
          },
          "metadata": {},
          "execution_count": 42
        }
      ]
    },
    {
      "cell_type": "code",
      "source": [
        "acc_score = knn_pipe.score(X_test_processed, y_test)\n",
        "acc_score"
      ],
      "metadata": {
        "id": "zUpK9wevH9pY",
        "colab": {
          "base_uri": "https://localhost:8080/"
        },
        "outputId": "1a26ff82-234c-4172-abd3-1b36da50ed6c"
      },
      "execution_count": null,
      "outputs": [
        {
          "output_type": "execute_result",
          "data": {
            "text/plain": [
              "0.8284"
            ]
          },
          "metadata": {},
          "execution_count": 43
        }
      ]
    },
    {
      "cell_type": "code",
      "source": [
        "knn_train_score = knn_pipe.score(X_train_processed, y_train)\n",
        "knn_test_score = knn_pipe.score(X_test_processed, y_test)\n",
        "print(knn_train_score)\n",
        "print(knn_test_score)"
      ],
      "metadata": {
        "id": "bkzxkQ4OI-EX",
        "colab": {
          "base_uri": "https://localhost:8080/"
        },
        "outputId": "41bcf25e-fa06-4416-b9c9-aaf2fd90b57a"
      },
      "execution_count": null,
      "outputs": [
        {
          "output_type": "stream",
          "name": "stdout",
          "text": [
            "0.8845333333333333\n",
            "0.8284\n"
          ]
        }
      ]
    },
    {
      "cell_type": "code",
      "source": [
        "ConfusionMatrixDisplay.from_predictions(y_test, knn_predictions);"
      ],
      "metadata": {
        "id": "RFaSOL4XIqoW",
        "colab": {
          "base_uri": "https://localhost:8080/",
          "height": 279
        },
        "outputId": "533d5cd3-b037-422e-8699-b55911e2ed5a"
      },
      "execution_count": null,
      "outputs": [
        {
          "output_type": "display_data",
          "data": {
            "text/plain": [
              "<Figure size 432x288 with 2 Axes>"
            ],
            "image/png": "[encoded data removed]"
          },
          "metadata": {
            "needs_background": "light"
          }
        }
      ]
    },
    {
      "cell_type": "code",
      "source": [
        "# Plot the confusion matrix\n",
        "labels=['Stayed','Churn']\n",
        "ConfusionMatrixDisplay.from_predictions(y_test, knn_predictions, display_labels=labels, cmap='Reds');"
      ],
      "metadata": {
        "id": "glqPVZFKIsRk",
        "colab": {
          "base_uri": "https://localhost:8080/",
          "height": 279
        },
        "outputId": "c95dd476-787a-4659-892b-ea1f9a798fc3"
      },
      "execution_count": null,
      "outputs": [
        {
          "output_type": "display_data",
          "data": {
            "text/plain": [
              "<Figure size 432x288 with 2 Axes>"
            ],
            "image/png": "[encoded data removed]"
          },
          "metadata": {
            "needs_background": "light"
          }
        }
      ]
    },
    {
      "cell_type": "markdown",
      "source": [
        "1939 Truly Stayed\n",
        "132 Truly Left"
      ],
      "metadata": {
        "id": "qNveZtXkKFmc"
      }
    },
    {
      "cell_type": "markdown",
      "source": [
        "##Boosting"
      ],
      "metadata": {
        "id": "5m4RjGBzLM1j"
      }
    },
    {
      "cell_type": "code",
      "source": [
        "from xgboost import XGBClassifier"
      ],
      "metadata": {
        "id": "G53aNRg-LOf6"
      },
      "execution_count": null,
      "outputs": []
    },
    {
      "cell_type": "code",
      "source": [
        "#Establish XGB and fit\n",
        "xgb = XGBClassifier()\n",
        "xgb.fit(X_train_processed, y_train)"
      ],
      "metadata": {
        "id": "AjOqVUpVLaoc",
        "colab": {
          "base_uri": "https://localhost:8080/"
        },
        "outputId": "c9a988c7-d95c-4be7-bdaf-121e916a76ff"
      },
      "execution_count": null,
      "outputs": [
        {
          "output_type": "execute_result",
          "data": {
            "text/plain": [
              "XGBClassifier()"
            ]
          },
          "metadata": {},
          "execution_count": 48
        }
      ]
    },
    {
      "cell_type": "code",
      "source": [
        "xgb_pipe = make_pipeline(preprocessor, xgb)\n",
        "xgb_pipe.fit(X_train, y_train)\n",
        "xgb_preds = xgb_pipe.predict(X_test)\n",
        "print(classification_report(y_test, xgb_preds))"
      ],
      "metadata": {
        "colab": {
          "base_uri": "https://localhost:8080/"
        },
        "id": "3C5HTHjuprvY",
        "outputId": "382bd5ae-84d8-4fd4-c5ab-6030b4a7878b"
      },
      "execution_count": null,
      "outputs": [
        {
          "output_type": "stream",
          "name": "stdout",
          "text": [
            "              precision    recall  f1-score   support\n",
            "\n",
            "           0       0.88      0.97      0.92      2003\n",
            "           1       0.77      0.47      0.58       497\n",
            "\n",
            "    accuracy                           0.87      2500\n",
            "   macro avg       0.83      0.72      0.75      2500\n",
            "weighted avg       0.86      0.87      0.85      2500\n",
            "\n"
          ]
        }
      ]
    },
    {
      "cell_type": "code",
      "source": [
        "print('Training accuracy:', xgb.score(X_train_processed, y_train))\n",
        "print('Testing accuracy:', xgb.score(X_test_processed, y_test))"
      ],
      "metadata": {
        "id": "uG0vpQLDLnQ-",
        "colab": {
          "base_uri": "https://localhost:8080/"
        },
        "outputId": "4401426a-4d6d-45e1-d55c-34c48309042e"
      },
      "execution_count": null,
      "outputs": [
        {
          "output_type": "stream",
          "name": "stdout",
          "text": [
            "Training accuracy: 0.8697333333333334\n",
            "Testing accuracy: 0.8668\n"
          ]
        }
      ]
    },
    {
      "cell_type": "code",
      "source": [
        "ConfusionMatrixDisplay.from_predictions(y_test, xgb_preds);"
      ],
      "metadata": {
        "colab": {
          "base_uri": "https://localhost:8080/"
        },
        "id": "jKkOKkLu-vNr",
        "outputId": "e142495e-2119-45cb-8023-e812581b6407"
      },
      "execution_count": null,
      "outputs": [
        {
          "output_type": "display_data",
          "data": {
            "text/plain": [
              "<Figure size 432x288 with 2 Axes>"
            ],
            "image/png": "[encoded data removed]"
          },
          "metadata": {
            "needs_background": "light"
          }
        }
      ]
    },
    {
      "cell_type": "markdown",
      "source": [
        "##Neural Networks"
      ],
      "metadata": {
        "id": "kmzMBNv0NFvi"
      }
    },
    {
      "cell_type": "code",
      "source": [
        "from tensorflow.keras.models import Sequential\n",
        "from tensorflow.keras.layers import Dense"
      ],
      "metadata": {
        "id": "zyV5_qYJNGqU"
      },
      "execution_count": null,
      "outputs": []
    },
    {
      "cell_type": "code",
      "source": [
        "input_shape = X_train_processed.shape[1]\n",
        "input_shape"
      ],
      "metadata": {
        "id": "yxhKSQnFNJOq",
        "colab": {
          "base_uri": "https://localhost:8080/"
        },
        "outputId": "a68ea900-68ec-4475-d8ad-478a860af221"
      },
      "execution_count": null,
      "outputs": [
        {
          "output_type": "execute_result",
          "data": {
            "text/plain": [
              "14"
            ]
          },
          "metadata": {},
          "execution_count": 53
        }
      ]
    },
    {
      "cell_type": "code",
      "source": [
        "model = Sequential()"
      ],
      "metadata": {
        "id": "I_8xulRYNMpD"
      },
      "execution_count": null,
      "outputs": []
    },
    {
      "cell_type": "code",
      "source": [
        "model.add(Dense(14, input_dim = input_shape, activation = 'relu')) \n",
        "model.add(Dense(10, activation = 'relu'))\n",
        "model.add(Dense(1, activation = 'sigmoid'))"
      ],
      "metadata": {
        "id": "-55GQlNpNS2n"
      },
      "execution_count": null,
      "outputs": []
    },
    {
      "cell_type": "code",
      "source": [
        "model.compile(loss = 'bce', optimizer = 'adam')"
      ],
      "metadata": {
        "id": "BwyfkPr3Ndmx"
      },
      "execution_count": null,
      "outputs": []
    },
    {
      "cell_type": "code",
      "source": [
        "history = model.fit(X_train_processed, y_train, validation_data = (X_test_processed, y_test), epochs=100)"
      ],
      "metadata": {
        "id": "Sl2x8y19Nl9M",
        "colab": {
          "base_uri": "https://localhost:8080/"
        },
        "outputId": "64374772-2da8-4a57-885b-a872a2b83a9b"
      },
      "execution_count": null,
      "outputs": [
        {
          "output_type": "stream",
          "name": "stdout",
          "text": [
            "Epoch 1/100\n",
            "235/235 [==============================] - 2s 4ms/step - loss: 0.6251 - val_loss: 0.4803\n",
            "Epoch 2/100\n",
            "235/235 [==============================] - 1s 3ms/step - loss: 0.4582 - val_loss: 0.4334\n",
            "Epoch 3/100\n",
            "235/235 [==============================] - 1s 3ms/step - loss: 0.4274 - val_loss: 0.4130\n",
            "Epoch 4/100\n",
            "235/235 [==============================] - 1s 3ms/step - loss: 0.4079 - val_loss: 0.3915\n",
            "Epoch 5/100\n",
            "235/235 [==============================] - 1s 3ms/step - loss: 0.3865 - val_loss: 0.3701\n",
            "Epoch 6/100\n",
            "235/235 [==============================] - 1s 3ms/step - loss: 0.3692 - val_loss: 0.3590\n",
            "Epoch 7/100\n",
            "235/235 [==============================] - 1s 3ms/step - loss: 0.3590 - val_loss: 0.3525\n",
            "Epoch 8/100\n",
            "235/235 [==============================] - 1s 3ms/step - loss: 0.3529 - val_loss: 0.3498\n",
            "Epoch 9/100\n",
            "235/235 [==============================] - 1s 3ms/step - loss: 0.3492 - val_loss: 0.3498\n",
            "Epoch 10/100\n",
            "235/235 [==============================] - 1s 3ms/step - loss: 0.3464 - val_loss: 0.3464\n",
            "Epoch 11/100\n",
            "235/235 [==============================] - 1s 3ms/step - loss: 0.3434 - val_loss: 0.3451\n",
            "Epoch 12/100\n",
            "235/235 [==============================] - 1s 3ms/step - loss: 0.3409 - val_loss: 0.3433\n",
            "Epoch 13/100\n",
            "235/235 [==============================] - 1s 3ms/step - loss: 0.3392 - val_loss: 0.3464\n",
            "Epoch 14/100\n",
            "235/235 [==============================] - 1s 3ms/step - loss: 0.3384 - val_loss: 0.3422\n",
            "Epoch 15/100\n",
            "235/235 [==============================] - 1s 3ms/step - loss: 0.3364 - val_loss: 0.3447\n",
            "Epoch 16/100\n",
            "235/235 [==============================] - 1s 3ms/step - loss: 0.3350 - val_loss: 0.3432\n",
            "Epoch 17/100\n",
            "235/235 [==============================] - 1s 3ms/step - loss: 0.3340 - val_loss: 0.3412\n",
            "Epoch 18/100\n",
            "235/235 [==============================] - 1s 3ms/step - loss: 0.3332 - val_loss: 0.3418\n",
            "Epoch 19/100\n",
            "235/235 [==============================] - 1s 3ms/step - loss: 0.3318 - val_loss: 0.3424\n",
            "Epoch 20/100\n",
            "235/235 [==============================] - 1s 3ms/step - loss: 0.3319 - val_loss: 0.3426\n",
            "Epoch 21/100\n",
            "235/235 [==============================] - 1s 3ms/step - loss: 0.3309 - val_loss: 0.3421\n",
            "Epoch 22/100\n",
            "235/235 [==============================] - 1s 3ms/step - loss: 0.3302 - val_loss: 0.3429\n",
            "Epoch 23/100\n",
            "235/235 [==============================] - 1s 3ms/step - loss: 0.3299 - val_loss: 0.3417\n",
            "Epoch 24/100\n",
            "235/235 [==============================] - 1s 3ms/step - loss: 0.3296 - val_loss: 0.3428\n",
            "Epoch 25/100\n",
            "235/235 [==============================] - 1s 3ms/step - loss: 0.3291 - val_loss: 0.3433\n",
            "Epoch 26/100\n",
            "235/235 [==============================] - 1s 3ms/step - loss: 0.3289 - val_loss: 0.3450\n",
            "Epoch 27/100\n",
            "235/235 [==============================] - 1s 3ms/step - loss: 0.3285 - val_loss: 0.3423\n",
            "Epoch 28/100\n",
            "235/235 [==============================] - 1s 3ms/step - loss: 0.3280 - val_loss: 0.3431\n",
            "Epoch 29/100\n",
            "235/235 [==============================] - 1s 3ms/step - loss: 0.3276 - val_loss: 0.3448\n",
            "Epoch 30/100\n",
            "235/235 [==============================] - 1s 3ms/step - loss: 0.3273 - val_loss: 0.3424\n",
            "Epoch 31/100\n",
            "235/235 [==============================] - 1s 3ms/step - loss: 0.3266 - val_loss: 0.3434\n",
            "Epoch 32/100\n",
            "235/235 [==============================] - 1s 3ms/step - loss: 0.3266 - val_loss: 0.3446\n",
            "Epoch 33/100\n",
            "235/235 [==============================] - 1s 3ms/step - loss: 0.3261 - val_loss: 0.3443\n",
            "Epoch 34/100\n",
            "235/235 [==============================] - 1s 3ms/step - loss: 0.3264 - val_loss: 0.3429\n",
            "Epoch 35/100\n",
            "235/235 [==============================] - 1s 3ms/step - loss: 0.3257 - val_loss: 0.3455\n",
            "Epoch 36/100\n",
            "235/235 [==============================] - 1s 3ms/step - loss: 0.3254 - val_loss: 0.3466\n",
            "Epoch 37/100\n",
            "235/235 [==============================] - 1s 3ms/step - loss: 0.3256 - val_loss: 0.3440\n",
            "Epoch 38/100\n",
            "235/235 [==============================] - 1s 3ms/step - loss: 0.3248 - val_loss: 0.3432\n",
            "Epoch 39/100\n",
            "235/235 [==============================] - 1s 3ms/step - loss: 0.3256 - val_loss: 0.3419\n",
            "Epoch 40/100\n",
            "235/235 [==============================] - 1s 3ms/step - loss: 0.3242 - val_loss: 0.3430\n",
            "Epoch 41/100\n",
            "235/235 [==============================] - 1s 3ms/step - loss: 0.3240 - val_loss: 0.3422\n",
            "Epoch 42/100\n",
            "235/235 [==============================] - 1s 3ms/step - loss: 0.3237 - val_loss: 0.3422\n",
            "Epoch 43/100\n",
            "235/235 [==============================] - 1s 3ms/step - loss: 0.3240 - val_loss: 0.3429\n",
            "Epoch 44/100\n",
            "235/235 [==============================] - 1s 3ms/step - loss: 0.3240 - val_loss: 0.3428\n",
            "Epoch 45/100\n",
            "235/235 [==============================] - 1s 3ms/step - loss: 0.3229 - val_loss: 0.3441\n",
            "Epoch 46/100\n",
            "235/235 [==============================] - 1s 3ms/step - loss: 0.3230 - val_loss: 0.3434\n",
            "Epoch 47/100\n",
            "235/235 [==============================] - 1s 3ms/step - loss: 0.3229 - val_loss: 0.3425\n",
            "Epoch 48/100\n",
            "235/235 [==============================] - 1s 3ms/step - loss: 0.3226 - val_loss: 0.3434\n",
            "Epoch 49/100\n",
            "235/235 [==============================] - 1s 3ms/step - loss: 0.3224 - val_loss: 0.3434\n",
            "Epoch 50/100\n",
            "235/235 [==============================] - 1s 3ms/step - loss: 0.3222 - val_loss: 0.3430\n",
            "Epoch 51/100\n",
            "235/235 [==============================] - 1s 3ms/step - loss: 0.3216 - val_loss: 0.3426\n",
            "Epoch 52/100\n",
            "235/235 [==============================] - 1s 3ms/step - loss: 0.3214 - val_loss: 0.3440\n",
            "Epoch 53/100\n",
            "235/235 [==============================] - 1s 3ms/step - loss: 0.3211 - val_loss: 0.3422\n",
            "Epoch 54/100\n",
            "235/235 [==============================] - 1s 3ms/step - loss: 0.3212 - val_loss: 0.3461\n",
            "Epoch 55/100\n",
            "235/235 [==============================] - 1s 3ms/step - loss: 0.3207 - val_loss: 0.3420\n",
            "Epoch 56/100\n",
            "235/235 [==============================] - 1s 3ms/step - loss: 0.3205 - val_loss: 0.3431\n",
            "Epoch 57/100\n",
            "235/235 [==============================] - 1s 3ms/step - loss: 0.3208 - val_loss: 0.3480\n",
            "Epoch 58/100\n",
            "235/235 [==============================] - 1s 3ms/step - loss: 0.3201 - val_loss: 0.3419\n",
            "Epoch 59/100\n",
            "235/235 [==============================] - 1s 3ms/step - loss: 0.3202 - val_loss: 0.3450\n",
            "Epoch 60/100\n",
            "235/235 [==============================] - 1s 3ms/step - loss: 0.3196 - val_loss: 0.3427\n",
            "Epoch 61/100\n",
            "235/235 [==============================] - 1s 3ms/step - loss: 0.3196 - val_loss: 0.3427\n",
            "Epoch 62/100\n",
            "235/235 [==============================] - 1s 3ms/step - loss: 0.3205 - val_loss: 0.3411\n",
            "Epoch 63/100\n",
            "235/235 [==============================] - 1s 3ms/step - loss: 0.3196 - val_loss: 0.3412\n",
            "Epoch 64/100\n",
            "235/235 [==============================] - 1s 3ms/step - loss: 0.3194 - val_loss: 0.3418\n",
            "Epoch 65/100\n",
            "235/235 [==============================] - 1s 3ms/step - loss: 0.3193 - val_loss: 0.3415\n",
            "Epoch 66/100\n",
            "235/235 [==============================] - 1s 3ms/step - loss: 0.3186 - val_loss: 0.3396\n",
            "Epoch 67/100\n",
            "235/235 [==============================] - 1s 3ms/step - loss: 0.3193 - val_loss: 0.3417\n",
            "Epoch 68/100\n",
            "235/235 [==============================] - 1s 3ms/step - loss: 0.3186 - val_loss: 0.3418\n",
            "Epoch 69/100\n",
            "235/235 [==============================] - 1s 3ms/step - loss: 0.3184 - val_loss: 0.3413\n",
            "Epoch 70/100\n",
            "235/235 [==============================] - 1s 3ms/step - loss: 0.3183 - val_loss: 0.3417\n",
            "Epoch 71/100\n",
            "235/235 [==============================] - 1s 3ms/step - loss: 0.3183 - val_loss: 0.3426\n",
            "Epoch 72/100\n",
            "235/235 [==============================] - 1s 3ms/step - loss: 0.3182 - val_loss: 0.3415\n",
            "Epoch 73/100\n",
            "235/235 [==============================] - 1s 3ms/step - loss: 0.3177 - val_loss: 0.3422\n",
            "Epoch 74/100\n",
            "235/235 [==============================] - 1s 3ms/step - loss: 0.3173 - val_loss: 0.3410\n",
            "Epoch 75/100\n",
            "235/235 [==============================] - 1s 3ms/step - loss: 0.3179 - val_loss: 0.3425\n",
            "Epoch 76/100\n",
            "235/235 [==============================] - 1s 3ms/step - loss: 0.3174 - val_loss: 0.3433\n",
            "Epoch 77/100\n",
            "235/235 [==============================] - 1s 3ms/step - loss: 0.3170 - val_loss: 0.3423\n",
            "Epoch 78/100\n",
            "235/235 [==============================] - 1s 3ms/step - loss: 0.3173 - val_loss: 0.3420\n",
            "Epoch 79/100\n",
            "235/235 [==============================] - 1s 3ms/step - loss: 0.3166 - val_loss: 0.3431\n",
            "Epoch 80/100\n",
            "235/235 [==============================] - 1s 3ms/step - loss: 0.3172 - val_loss: 0.3412\n",
            "Epoch 81/100\n",
            "235/235 [==============================] - 1s 3ms/step - loss: 0.3160 - val_loss: 0.3430\n",
            "Epoch 82/100\n",
            "235/235 [==============================] - 1s 3ms/step - loss: 0.3163 - val_loss: 0.3412\n",
            "Epoch 83/100\n",
            "235/235 [==============================] - 1s 3ms/step - loss: 0.3157 - val_loss: 0.3424\n",
            "Epoch 84/100\n",
            "235/235 [==============================] - 1s 3ms/step - loss: 0.3161 - val_loss: 0.3425\n",
            "Epoch 85/100\n",
            "235/235 [==============================] - 1s 3ms/step - loss: 0.3158 - val_loss: 0.3425\n",
            "Epoch 86/100\n",
            "235/235 [==============================] - 1s 3ms/step - loss: 0.3162 - val_loss: 0.3431\n",
            "Epoch 87/100\n",
            "235/235 [==============================] - 1s 3ms/step - loss: 0.3158 - val_loss: 0.3427\n",
            "Epoch 88/100\n",
            "235/235 [==============================] - 1s 3ms/step - loss: 0.3159 - val_loss: 0.3429\n",
            "Epoch 89/100\n",
            "235/235 [==============================] - 1s 3ms/step - loss: 0.3154 - val_loss: 0.3435\n",
            "Epoch 90/100\n",
            "235/235 [==============================] - 1s 3ms/step - loss: 0.3152 - val_loss: 0.3423\n",
            "Epoch 91/100\n",
            "235/235 [==============================] - 1s 3ms/step - loss: 0.3148 - val_loss: 0.3443\n",
            "Epoch 92/100\n",
            "235/235 [==============================] - 1s 3ms/step - loss: 0.3150 - val_loss: 0.3417\n",
            "Epoch 93/100\n",
            "235/235 [==============================] - 1s 3ms/step - loss: 0.3149 - val_loss: 0.3454\n",
            "Epoch 94/100\n",
            "235/235 [==============================] - 1s 3ms/step - loss: 0.3146 - val_loss: 0.3455\n",
            "Epoch 95/100\n",
            "235/235 [==============================] - 1s 3ms/step - loss: 0.3147 - val_loss: 0.3436\n",
            "Epoch 96/100\n",
            "235/235 [==============================] - 1s 3ms/step - loss: 0.3151 - val_loss: 0.3430\n",
            "Epoch 97/100\n",
            "235/235 [==============================] - 1s 3ms/step - loss: 0.3145 - val_loss: 0.3434\n",
            "Epoch 98/100\n",
            "235/235 [==============================] - 1s 3ms/step - loss: 0.3142 - val_loss: 0.3456\n",
            "Epoch 99/100\n",
            "235/235 [==============================] - 1s 3ms/step - loss: 0.3151 - val_loss: 0.3458\n",
            "Epoch 100/100\n",
            "235/235 [==============================] - 1s 3ms/step - loss: 0.3145 - val_loss: 0.3463\n"
          ]
        }
      ]
    },
    {
      "cell_type": "code",
      "source": [
        "plt.plot(history.history['loss'], label='Train loss')\n",
        "plt.plot(history.history['val_loss'], label='Test Loss')\n",
        "plt.legend();"
      ],
      "metadata": {
        "id": "uQYvpxe8Nnsm",
        "colab": {
          "base_uri": "https://localhost:8080/"
        },
        "outputId": "af66bcf9-33ea-4926-821c-a8e7e32a4f98"
      },
      "execution_count": null,
      "outputs": [
        {
          "output_type": "display_data",
          "data": {
            "text/plain": [
              "<Figure size 432x288 with 1 Axes>"
            ],
            "image/png": "[encoded data removed]"
          },
          "metadata": {
            "needs_background": "light"
          }
        }
      ]
    },
    {
      "cell_type": "markdown",
      "source": [
        "##Dropout"
      ],
      "metadata": {
        "id": "6V6pkb9wsIBt"
      }
    },
    {
      "cell_type": "code",
      "source": [
        "from tensorflow.keras.layers import Dropout"
      ],
      "metadata": {
        "id": "hIh1FDFcrMhY"
      },
      "execution_count": null,
      "outputs": []
    },
    {
      "cell_type": "code",
      "source": [
        "dp_model = Sequential()\n",
        "\n",
        "dp_model.add(Dense(14, input_dim = input_shape, activation = 'relu')) \n",
        "dp_model.add(Dropout(.2))\n",
        "dp_model.add(Dense(10, activation = 'relu'))\n",
        "dp_model.add(Dropout(.2))\n",
        "dp_model.add(Dense(10, activation = 'relu'))\n",
        "dp_model.add(Dropout(.2))\n",
        "dp_model.add(Dense(10, activation = 'relu'))\n",
        "dp_model.add(Dropout(.2))\n",
        "dp_model.add(Dense(1, activation = 'sigmoid'))\n",
        "dp_model.compile(loss = 'bce', optimizer = 'adam')\n",
        "dp_history = dp_model.fit(X_train_processed, y_train, validation_data = (X_test_processed, y_test), epochs=100)"
      ],
      "metadata": {
        "colab": {
          "base_uri": "https://localhost:8080/"
        },
        "id": "jGXe-WyfrNNG",
        "outputId": "7ebe98c6-79a2-4a12-8445-a11b5df6a002"
      },
      "execution_count": null,
      "outputs": [
        {
          "output_type": "stream",
          "name": "stdout",
          "text": [
            "Epoch 1/100\n",
            "235/235 [==============================] - 2s 4ms/step - loss: 0.5446 - val_loss: 0.4706\n",
            "Epoch 2/100\n",
            "235/235 [==============================] - 1s 3ms/step - loss: 0.4950 - val_loss: 0.4544\n",
            "Epoch 3/100\n",
            "235/235 [==============================] - 1s 4ms/step - loss: 0.4739 - val_loss: 0.4339\n",
            "Epoch 4/100\n",
            "235/235 [==============================] - 1s 3ms/step - loss: 0.4681 - val_loss: 0.4302\n",
            "Epoch 5/100\n",
            "235/235 [==============================] - 1s 3ms/step - loss: 0.4667 - val_loss: 0.4268\n",
            "Epoch 6/100\n",
            "235/235 [==============================] - 1s 3ms/step - loss: 0.4652 - val_loss: 0.4305\n",
            "Epoch 7/100\n",
            "235/235 [==============================] - 1s 3ms/step - loss: 0.4561 - val_loss: 0.4219\n",
            "Epoch 8/100\n",
            "235/235 [==============================] - 1s 3ms/step - loss: 0.4481 - val_loss: 0.4070\n",
            "Epoch 9/100\n",
            "235/235 [==============================] - 1s 4ms/step - loss: 0.4390 - val_loss: 0.3959\n",
            "Epoch 10/100\n",
            "235/235 [==============================] - 1s 3ms/step - loss: 0.4230 - val_loss: 0.3853\n",
            "Epoch 11/100\n",
            "235/235 [==============================] - 1s 4ms/step - loss: 0.4183 - val_loss: 0.3802\n",
            "Epoch 12/100\n",
            "235/235 [==============================] - 1s 3ms/step - loss: 0.4161 - val_loss: 0.3748\n",
            "Epoch 13/100\n",
            "235/235 [==============================] - 1s 3ms/step - loss: 0.4153 - val_loss: 0.3671\n",
            "Epoch 14/100\n",
            "235/235 [==============================] - 2s 7ms/step - loss: 0.4107 - val_loss: 0.3622\n",
            "Epoch 15/100\n",
            "235/235 [==============================] - 2s 7ms/step - loss: 0.3996 - val_loss: 0.3601\n",
            "Epoch 16/100\n",
            "235/235 [==============================] - 2s 7ms/step - loss: 0.3994 - val_loss: 0.3590\n",
            "Epoch 17/100\n",
            "235/235 [==============================] - 1s 4ms/step - loss: 0.3914 - val_loss: 0.3493\n",
            "Epoch 18/100\n",
            "235/235 [==============================] - 1s 3ms/step - loss: 0.3946 - val_loss: 0.3487\n",
            "Epoch 19/100\n",
            "235/235 [==============================] - 1s 3ms/step - loss: 0.3856 - val_loss: 0.3538\n",
            "Epoch 20/100\n",
            "235/235 [==============================] - 1s 3ms/step - loss: 0.3860 - val_loss: 0.3463\n",
            "Epoch 21/100\n",
            "235/235 [==============================] - 1s 3ms/step - loss: 0.3822 - val_loss: 0.3476\n",
            "Epoch 22/100\n",
            "235/235 [==============================] - 1s 4ms/step - loss: 0.3810 - val_loss: 0.3510\n",
            "Epoch 23/100\n",
            "235/235 [==============================] - 1s 4ms/step - loss: 0.3807 - val_loss: 0.3461\n",
            "Epoch 24/100\n",
            "235/235 [==============================] - 1s 3ms/step - loss: 0.3824 - val_loss: 0.3451\n",
            "Epoch 25/100\n",
            "235/235 [==============================] - 1s 3ms/step - loss: 0.3781 - val_loss: 0.3476\n",
            "Epoch 26/100\n",
            "235/235 [==============================] - 1s 4ms/step - loss: 0.3787 - val_loss: 0.3457\n",
            "Epoch 27/100\n",
            "235/235 [==============================] - 1s 3ms/step - loss: 0.3738 - val_loss: 0.3495\n",
            "Epoch 28/100\n",
            "235/235 [==============================] - 1s 4ms/step - loss: 0.3770 - val_loss: 0.3434\n",
            "Epoch 29/100\n",
            "235/235 [==============================] - 1s 3ms/step - loss: 0.3815 - val_loss: 0.3471\n",
            "Epoch 30/100\n",
            "235/235 [==============================] - 1s 3ms/step - loss: 0.3677 - val_loss: 0.3445\n",
            "Epoch 31/100\n",
            "235/235 [==============================] - 1s 4ms/step - loss: 0.3739 - val_loss: 0.3445\n",
            "Epoch 32/100\n",
            "235/235 [==============================] - 1s 4ms/step - loss: 0.3708 - val_loss: 0.3414\n",
            "Epoch 33/100\n",
            "235/235 [==============================] - 1s 3ms/step - loss: 0.3690 - val_loss: 0.3477\n",
            "Epoch 34/100\n",
            "235/235 [==============================] - 1s 4ms/step - loss: 0.3675 - val_loss: 0.3465\n",
            "Epoch 35/100\n",
            "235/235 [==============================] - 1s 3ms/step - loss: 0.3671 - val_loss: 0.3452\n",
            "Epoch 36/100\n",
            "235/235 [==============================] - 1s 3ms/step - loss: 0.3676 - val_loss: 0.3502\n",
            "Epoch 37/100\n",
            "235/235 [==============================] - 1s 3ms/step - loss: 0.3705 - val_loss: 0.3469\n",
            "Epoch 38/100\n",
            "235/235 [==============================] - 1s 3ms/step - loss: 0.3653 - val_loss: 0.3479\n",
            "Epoch 39/100\n",
            "235/235 [==============================] - 1s 3ms/step - loss: 0.3690 - val_loss: 0.3449\n",
            "Epoch 40/100\n",
            "235/235 [==============================] - 1s 3ms/step - loss: 0.3649 - val_loss: 0.3414\n",
            "Epoch 41/100\n",
            "235/235 [==============================] - 1s 3ms/step - loss: 0.3612 - val_loss: 0.3410\n",
            "Epoch 42/100\n",
            "235/235 [==============================] - 1s 3ms/step - loss: 0.3635 - val_loss: 0.3517\n",
            "Epoch 43/100\n",
            "235/235 [==============================] - 1s 4ms/step - loss: 0.3630 - val_loss: 0.3420\n",
            "Epoch 44/100\n",
            "235/235 [==============================] - 1s 3ms/step - loss: 0.3643 - val_loss: 0.3411\n",
            "Epoch 45/100\n",
            "235/235 [==============================] - 1s 4ms/step - loss: 0.3574 - val_loss: 0.3411\n",
            "Epoch 46/100\n",
            "235/235 [==============================] - 1s 3ms/step - loss: 0.3599 - val_loss: 0.3403\n",
            "Epoch 47/100\n",
            "235/235 [==============================] - 1s 4ms/step - loss: 0.3628 - val_loss: 0.3438\n",
            "Epoch 48/100\n",
            "235/235 [==============================] - 1s 3ms/step - loss: 0.3593 - val_loss: 0.3430\n",
            "Epoch 49/100\n",
            "235/235 [==============================] - 1s 4ms/step - loss: 0.3625 - val_loss: 0.3440\n",
            "Epoch 50/100\n",
            "235/235 [==============================] - 1s 3ms/step - loss: 0.3629 - val_loss: 0.3451\n",
            "Epoch 51/100\n",
            "235/235 [==============================] - 1s 4ms/step - loss: 0.3635 - val_loss: 0.3436\n",
            "Epoch 52/100\n",
            "235/235 [==============================] - 1s 3ms/step - loss: 0.3560 - val_loss: 0.3440\n",
            "Epoch 53/100\n",
            "235/235 [==============================] - 1s 3ms/step - loss: 0.3610 - val_loss: 0.3421\n",
            "Epoch 54/100\n",
            "235/235 [==============================] - 1s 3ms/step - loss: 0.3588 - val_loss: 0.3401\n",
            "Epoch 55/100\n",
            "235/235 [==============================] - 1s 3ms/step - loss: 0.3588 - val_loss: 0.3388\n",
            "Epoch 56/100\n",
            "235/235 [==============================] - 1s 3ms/step - loss: 0.3632 - val_loss: 0.3415\n",
            "Epoch 57/100\n",
            "235/235 [==============================] - 1s 3ms/step - loss: 0.3634 - val_loss: 0.3448\n",
            "Epoch 58/100\n",
            "235/235 [==============================] - 1s 3ms/step - loss: 0.3566 - val_loss: 0.3429\n",
            "Epoch 59/100\n",
            "235/235 [==============================] - 1s 3ms/step - loss: 0.3537 - val_loss: 0.3401\n",
            "Epoch 60/100\n",
            "235/235 [==============================] - 1s 3ms/step - loss: 0.3557 - val_loss: 0.3414\n",
            "Epoch 61/100\n",
            "235/235 [==============================] - 1s 3ms/step - loss: 0.3575 - val_loss: 0.3467\n",
            "Epoch 62/100\n",
            "235/235 [==============================] - 1s 3ms/step - loss: 0.3579 - val_loss: 0.3457\n",
            "Epoch 63/100\n",
            "235/235 [==============================] - 1s 4ms/step - loss: 0.3607 - val_loss: 0.3483\n",
            "Epoch 64/100\n",
            "235/235 [==============================] - 1s 4ms/step - loss: 0.3594 - val_loss: 0.3426\n",
            "Epoch 65/100\n",
            "235/235 [==============================] - 1s 4ms/step - loss: 0.3570 - val_loss: 0.3424\n",
            "Epoch 66/100\n",
            "235/235 [==============================] - 1s 3ms/step - loss: 0.3615 - val_loss: 0.3429\n",
            "Epoch 67/100\n",
            "235/235 [==============================] - 1s 3ms/step - loss: 0.3568 - val_loss: 0.3397\n",
            "Epoch 68/100\n",
            "235/235 [==============================] - 1s 4ms/step - loss: 0.3562 - val_loss: 0.3430\n",
            "Epoch 69/100\n",
            "235/235 [==============================] - 1s 3ms/step - loss: 0.3568 - val_loss: 0.3399\n",
            "Epoch 70/100\n",
            "235/235 [==============================] - 1s 4ms/step - loss: 0.3539 - val_loss: 0.3408\n",
            "Epoch 71/100\n",
            "235/235 [==============================] - 1s 4ms/step - loss: 0.3570 - val_loss: 0.3394\n",
            "Epoch 72/100\n",
            "235/235 [==============================] - 1s 4ms/step - loss: 0.3601 - val_loss: 0.3391\n",
            "Epoch 73/100\n",
            "235/235 [==============================] - 1s 4ms/step - loss: 0.3574 - val_loss: 0.3423\n",
            "Epoch 74/100\n",
            "235/235 [==============================] - 1s 3ms/step - loss: 0.3581 - val_loss: 0.3406\n",
            "Epoch 75/100\n",
            "235/235 [==============================] - 1s 3ms/step - loss: 0.3565 - val_loss: 0.3401\n",
            "Epoch 76/100\n",
            "235/235 [==============================] - 1s 3ms/step - loss: 0.3546 - val_loss: 0.3406\n",
            "Epoch 77/100\n",
            "235/235 [==============================] - 1s 3ms/step - loss: 0.3515 - val_loss: 0.3413\n",
            "Epoch 78/100\n",
            "235/235 [==============================] - 1s 3ms/step - loss: 0.3553 - val_loss: 0.3409\n",
            "Epoch 79/100\n",
            "235/235 [==============================] - 1s 3ms/step - loss: 0.3513 - val_loss: 0.3403\n",
            "Epoch 80/100\n",
            "235/235 [==============================] - 1s 3ms/step - loss: 0.3515 - val_loss: 0.3414\n",
            "Epoch 81/100\n",
            "235/235 [==============================] - 1s 3ms/step - loss: 0.3550 - val_loss: 0.3380\n",
            "Epoch 82/100\n",
            "235/235 [==============================] - 1s 3ms/step - loss: 0.3531 - val_loss: 0.3407\n",
            "Epoch 83/100\n",
            "235/235 [==============================] - 1s 3ms/step - loss: 0.3572 - val_loss: 0.3405\n",
            "Epoch 84/100\n",
            "235/235 [==============================] - 1s 3ms/step - loss: 0.3518 - val_loss: 0.3382\n",
            "Epoch 85/100\n",
            "235/235 [==============================] - 1s 4ms/step - loss: 0.3561 - val_loss: 0.3393\n",
            "Epoch 86/100\n",
            "235/235 [==============================] - 1s 3ms/step - loss: 0.3556 - val_loss: 0.3371\n",
            "Epoch 87/100\n",
            "235/235 [==============================] - 1s 3ms/step - loss: 0.3595 - val_loss: 0.3387\n",
            "Epoch 88/100\n",
            "235/235 [==============================] - 1s 3ms/step - loss: 0.3553 - val_loss: 0.3394\n",
            "Epoch 89/100\n",
            "235/235 [==============================] - 1s 4ms/step - loss: 0.3540 - val_loss: 0.3420\n",
            "Epoch 90/100\n",
            "235/235 [==============================] - 1s 4ms/step - loss: 0.3551 - val_loss: 0.3423\n",
            "Epoch 91/100\n",
            "235/235 [==============================] - 1s 3ms/step - loss: 0.3549 - val_loss: 0.3385\n",
            "Epoch 92/100\n",
            "235/235 [==============================] - 1s 4ms/step - loss: 0.3519 - val_loss: 0.3368\n",
            "Epoch 93/100\n",
            "235/235 [==============================] - 1s 3ms/step - loss: 0.3509 - val_loss: 0.3392\n",
            "Epoch 94/100\n",
            "235/235 [==============================] - 1s 3ms/step - loss: 0.3514 - val_loss: 0.3380\n",
            "Epoch 95/100\n",
            "235/235 [==============================] - 1s 4ms/step - loss: 0.3484 - val_loss: 0.3365\n",
            "Epoch 96/100\n",
            "235/235 [==============================] - 1s 4ms/step - loss: 0.3552 - val_loss: 0.3365\n",
            "Epoch 97/100\n",
            "235/235 [==============================] - 1s 4ms/step - loss: 0.3467 - val_loss: 0.3411\n",
            "Epoch 98/100\n",
            "235/235 [==============================] - 1s 4ms/step - loss: 0.3517 - val_loss: 0.3392\n",
            "Epoch 99/100\n",
            "235/235 [==============================] - 1s 4ms/step - loss: 0.3553 - val_loss: 0.3412\n",
            "Epoch 100/100\n",
            "235/235 [==============================] - 1s 4ms/step - loss: 0.3542 - val_loss: 0.3389\n"
          ]
        }
      ]
    },
    {
      "cell_type": "code",
      "source": [
        "plt.plot(dp_history.history['loss'], label='Train loss')\n",
        "plt.plot(dp_history.history['val_loss'], label='Test Loss')\n",
        "plt.legend();"
      ],
      "metadata": {
        "colab": {
          "base_uri": "https://localhost:8080/"
        },
        "id": "2ElbIWhqr7Fc",
        "outputId": "a8971ee7-ec8b-4524-f351-3e2ebdbddc6e"
      },
      "execution_count": null,
      "outputs": [
        {
          "output_type": "display_data",
          "data": {
            "text/plain": [
              "<Figure size 432x288 with 1 Axes>"
            ],
            "image/png": "[encoded data removed]"
          },
          "metadata": {
            "needs_background": "light"
          }
        }
      ]
    },
    {
      "cell_type": "code",
      "source": [
        "y_preds_dp = dp_model.predict(X_test_processed)\n",
        "\n",
        "y_preds_dp = np.round(y_preds_dp)\n",
        " \n",
        "print(classification_report(y_test, y_preds_dp))\n",
        " \n",
        "ConfusionMatrixDisplay.from_predictions(y_test, y_preds_dp, cmap='Blues');"
      ],
      "metadata": {
        "colab": {
          "base_uri": "https://localhost:8080/"
        },
        "id": "K0VRcf9b8Pm5",
        "outputId": "18810609-c5b8-4e8d-caca-cd0654062062"
      },
      "execution_count": null,
      "outputs": [
        {
          "output_type": "stream",
          "name": "stdout",
          "text": [
            "79/79 [==============================] - 0s 2ms/step\n",
            "              precision    recall  f1-score   support\n",
            "\n",
            "           0       0.89      0.96      0.92      2003\n",
            "           1       0.74      0.50      0.60       497\n",
            "\n",
            "    accuracy                           0.87      2500\n",
            "   macro avg       0.81      0.73      0.76      2500\n",
            "weighted avg       0.86      0.87      0.86      2500\n",
            "\n"
          ]
        },
        {
          "output_type": "display_data",
          "data": {
            "text/plain": [
              "<Figure size 432x288 with 2 Axes>"
            ],
            "image/png": "[encoded data removed]"
          },
          "metadata": {
            "needs_background": "light"
          }
        }
      ]
    },
    {
      "cell_type": "markdown",
      "source": [
        "##Early Stopping"
      ],
      "metadata": {
        "id": "OFGOrJPO10pp"
      }
    },
    {
      "cell_type": "code",
      "source": [
        "from tensorflow.keras.callbacks import EarlyStopping"
      ],
      "metadata": {
        "id": "yHP9gdJs12Vv"
      },
      "execution_count": null,
      "outputs": []
    },
    {
      "cell_type": "code",
      "source": [
        "# Sequential model\n",
        "es_model = Sequential()\n",
        "es_model.add(Dense(20, input_dim =input_shape, activation = 'relu')) \n",
        "es_model.add(Dense(10, activation = 'relu'))\n",
        "es_model.add(Dense(5, activation = 'relu'))\n",
        "es_model.add(Dense(1, activation = 'sigmoid'))\n",
        "es_model.compile(loss = 'bce', optimizer = 'adam')\n",
        "early_stopping = EarlyStopping(patience = 10)\n",
        "es_history = es_model.fit(X_train_processed, y_train,validation_data = (X_test_processed, y_test), epochs=100, callbacks = [early_stopping])"
      ],
      "metadata": {
        "colab": {
          "base_uri": "https://localhost:8080/"
        },
        "id": "YY1pfLyC13DG",
        "outputId": "293d43dd-4a60-4876-f0a7-6c03ed756887"
      },
      "execution_count": null,
      "outputs": [
        {
          "output_type": "stream",
          "name": "stdout",
          "text": [
            "Epoch 1/100\n",
            "235/235 [==============================] - 2s 5ms/step - loss: 0.4870 - val_loss: 0.4295\n",
            "Epoch 2/100\n",
            "235/235 [==============================] - 1s 3ms/step - loss: 0.4228 - val_loss: 0.4043\n",
            "Epoch 3/100\n",
            "235/235 [==============================] - 1s 3ms/step - loss: 0.4026 - val_loss: 0.3876\n",
            "Epoch 4/100\n",
            "235/235 [==============================] - 1s 3ms/step - loss: 0.3798 - val_loss: 0.3670\n",
            "Epoch 5/100\n",
            "235/235 [==============================] - 1s 3ms/step - loss: 0.3590 - val_loss: 0.3584\n",
            "Epoch 6/100\n",
            "235/235 [==============================] - 1s 3ms/step - loss: 0.3485 - val_loss: 0.3495\n",
            "Epoch 7/100\n",
            "235/235 [==============================] - 1s 3ms/step - loss: 0.3446 - val_loss: 0.3471\n",
            "Epoch 8/100\n",
            "235/235 [==============================] - 1s 3ms/step - loss: 0.3402 - val_loss: 0.3449\n",
            "Epoch 9/100\n",
            "235/235 [==============================] - 1s 3ms/step - loss: 0.3391 - val_loss: 0.3469\n",
            "Epoch 10/100\n",
            "235/235 [==============================] - 1s 3ms/step - loss: 0.3374 - val_loss: 0.3425\n",
            "Epoch 11/100\n",
            "235/235 [==============================] - 1s 3ms/step - loss: 0.3351 - val_loss: 0.3429\n",
            "Epoch 12/100\n",
            "235/235 [==============================] - 1s 3ms/step - loss: 0.3339 - val_loss: 0.3405\n",
            "Epoch 13/100\n",
            "235/235 [==============================] - 1s 3ms/step - loss: 0.3328 - val_loss: 0.3410\n",
            "Epoch 14/100\n",
            "235/235 [==============================] - 1s 3ms/step - loss: 0.3308 - val_loss: 0.3405\n",
            "Epoch 15/100\n",
            "235/235 [==============================] - 1s 3ms/step - loss: 0.3304 - val_loss: 0.3405\n",
            "Epoch 16/100\n",
            "235/235 [==============================] - 1s 3ms/step - loss: 0.3294 - val_loss: 0.3403\n",
            "Epoch 17/100\n",
            "235/235 [==============================] - 1s 3ms/step - loss: 0.3296 - val_loss: 0.3419\n",
            "Epoch 18/100\n",
            "235/235 [==============================] - 1s 3ms/step - loss: 0.3283 - val_loss: 0.3403\n",
            "Epoch 19/100\n",
            "235/235 [==============================] - 1s 3ms/step - loss: 0.3277 - val_loss: 0.3380\n",
            "Epoch 20/100\n",
            "235/235 [==============================] - 1s 3ms/step - loss: 0.3271 - val_loss: 0.3393\n",
            "Epoch 21/100\n",
            "235/235 [==============================] - 1s 3ms/step - loss: 0.3271 - val_loss: 0.3393\n",
            "Epoch 22/100\n",
            "235/235 [==============================] - 1s 3ms/step - loss: 0.3261 - val_loss: 0.3394\n",
            "Epoch 23/100\n",
            "235/235 [==============================] - 1s 3ms/step - loss: 0.3253 - val_loss: 0.3402\n",
            "Epoch 24/100\n",
            "235/235 [==============================] - 1s 3ms/step - loss: 0.3252 - val_loss: 0.3390\n",
            "Epoch 25/100\n",
            "235/235 [==============================] - 1s 3ms/step - loss: 0.3243 - val_loss: 0.3399\n",
            "Epoch 26/100\n",
            "235/235 [==============================] - 1s 3ms/step - loss: 0.3241 - val_loss: 0.3412\n",
            "Epoch 27/100\n",
            "235/235 [==============================] - 1s 3ms/step - loss: 0.3238 - val_loss: 0.3432\n",
            "Epoch 28/100\n",
            "235/235 [==============================] - 1s 3ms/step - loss: 0.3234 - val_loss: 0.3424\n",
            "Epoch 29/100\n",
            "235/235 [==============================] - 1s 3ms/step - loss: 0.3241 - val_loss: 0.3401\n"
          ]
        }
      ]
    },
    {
      "cell_type": "code",
      "source": [
        "plt.plot(es_history.history['loss'], label='Train loss')\n",
        "plt.plot(es_history.history['val_loss'], label='Test Loss')\n",
        "plt.legend();"
      ],
      "metadata": {
        "colab": {
          "base_uri": "https://localhost:8080/"
        },
        "id": "3_f70n132eIF",
        "outputId": "92a29da1-9d2a-4a0a-81b6-8730c6735ba9"
      },
      "execution_count": null,
      "outputs": [
        {
          "output_type": "display_data",
          "data": {
            "text/plain": [
              "<Figure size 432x288 with 1 Axes>"
            ],
            "image/png": "[encoded data removed]"
          },
          "metadata": {
            "needs_background": "light"
          }
        }
      ]
    },
    {
      "cell_type": "code",
      "source": [
        "y_preds = es_model.predict(X_test_processed)\n",
        "\n",
        "y_preds = np.round(y_preds)\n",
        " \n",
        "print(classification_report(y_test, y_preds))\n",
        " \n",
        "ConfusionMatrixDisplay.from_predictions(y_test, y_preds, cmap='Blues');"
      ],
      "metadata": {
        "colab": {
          "base_uri": "https://localhost:8080/"
        },
        "id": "dkiIQcph702O",
        "outputId": "e2da2e00-31a7-431b-8dd4-59c201d2a128"
      },
      "execution_count": null,
      "outputs": [
        {
          "output_type": "stream",
          "name": "stdout",
          "text": [
            "79/79 [==============================] - 0s 2ms/step\n",
            "              precision    recall  f1-score   support\n",
            "\n",
            "           0       0.88      0.96      0.92      2003\n",
            "           1       0.75      0.45      0.56       497\n",
            "\n",
            "    accuracy                           0.86      2500\n",
            "   macro avg       0.81      0.71      0.74      2500\n",
            "weighted avg       0.85      0.86      0.85      2500\n",
            "\n"
          ]
        },
        {
          "output_type": "display_data",
          "data": {
            "text/plain": [
              "<Figure size 432x288 with 2 Axes>"
            ],
            "image/png": "[encoded data removed]"
          },
          "metadata": {
            "needs_background": "light"
          }
        }
      ]
    },
    {
      "cell_type": "markdown",
      "source": [
        "##Report"
      ],
      "metadata": {
        "id": "LluCWqQoGWui"
      }
    },
    {
      "cell_type": "code",
      "source": [
        "models= [KNeighborsClassifier(n_neighbors=2), DecisionTreeClassifier(random_state = 42, max_depth=2), XGBClassifier()]\n",
        "test_score = []"
      ],
      "metadata": {
        "id": "EwSPo6H4GYMV"
      },
      "execution_count": null,
      "outputs": []
    },
    {
      "cell_type": "code",
      "source": [
        "for model in models:\n",
        "    model.fit(X_train_processed, y_train)\n",
        "    y_pred_r = model.predict(X_test_processed)\n",
        "    score = accuracy_score(y_test, y_pred_r)\n",
        "    test_score.append(score)    \n",
        "    cm = classification_report(y_test, y_pred_r)\n",
        "    print(model.__class__.__name__)\n",
        "    print(cm, '\\n')"
      ],
      "metadata": {
        "colab": {
          "base_uri": "https://localhost:8080/"
        },
        "id": "k9VAoQFsGY5Y",
        "outputId": "df5c4950-3711-4752-ff66-a52130094b9a"
      },
      "execution_count": null,
      "outputs": [
        {
          "output_type": "stream",
          "name": "stdout",
          "text": [
            "KNeighborsClassifier\n",
            "              precision    recall  f1-score   support\n",
            "\n",
            "           0       0.85      0.97      0.90      2003\n",
            "           1       0.69      0.29      0.41       497\n",
            "\n",
            "    accuracy                           0.83      2500\n",
            "   macro avg       0.77      0.63      0.66      2500\n",
            "weighted avg       0.82      0.83      0.81      2500\n",
            " \n",
            "\n",
            "DecisionTreeClassifier\n",
            "              precision    recall  f1-score   support\n",
            "\n",
            "           0       0.87      0.96      0.91      2003\n",
            "           1       0.69      0.41      0.51       497\n",
            "\n",
            "    accuracy                           0.85      2500\n",
            "   macro avg       0.78      0.68      0.71      2500\n",
            "weighted avg       0.83      0.85      0.83      2500\n",
            " \n",
            "\n",
            "XGBClassifier\n",
            "              precision    recall  f1-score   support\n",
            "\n",
            "           0       0.88      0.97      0.92      2003\n",
            "           1       0.77      0.47      0.58       497\n",
            "\n",
            "    accuracy                           0.87      2500\n",
            "   macro avg       0.83      0.72      0.75      2500\n",
            "weighted avg       0.86      0.87      0.85      2500\n",
            " \n",
            "\n"
          ]
        }
      ]
    }
  ]
}